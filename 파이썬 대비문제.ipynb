{
 "cells": [
  {
   "cell_type": "markdown",
   "metadata": {},
   "source": [
    "## 8번"
   ]
  },
  {
   "cell_type": "markdown",
   "metadata": {},
   "source": [
    "\"2020년 3월 5일\", \"2002년 6월 23일\", \"2001년 9월 4일\", \"2020년 1월 5일\" 중 가장 최근 일자를 반환\n",
    "해주는 코드를 작성하시오."
   ]
  },
  {
   "cell_type": "code",
   "execution_count": 1,
   "metadata": {},
   "outputs": [
    {
     "name": "stdout",
     "output_type": "stream",
     "text": [
      "2020년 3월 5일\n"
     ]
    }
   ],
   "source": [
    "date=[\"2020년 3월 5일\", \"2002년 6월 23일\", \"2001년 9월 4일\", \"2020년 1월 5일\" ]\n",
    "print(max(date))"
   ]
  },
  {
   "cell_type": "code",
   "execution_count": 8,
   "metadata": {},
   "outputs": [
    {
     "data": {
      "text/plain": [
       "'2020년 3월 5일'"
      ]
     },
     "execution_count": 8,
     "metadata": {},
     "output_type": "execute_result"
    }
   ],
   "source": [
    "date=[\"2020년 3월 5일\", \"2002년 6월 23일\", \"2001년 9월 4일\", \"2020년 1월 5일\" ]\n",
    "date.sort(reverse=True)\n",
    "date[0]"
   ]
  },
  {
   "cell_type": "markdown",
   "metadata": {},
   "source": [
    "## 9번"
   ]
  },
  {
   "cell_type": "markdown",
   "metadata": {},
   "source": [
    "슬라이싱을 활용하여 \"Management Information System\"에서 \"Information\"만을 추출하여 출력하는 \n",
    "코드를 작성하시오."
   ]
  },
  {
   "cell_type": "code",
   "execution_count": 14,
   "metadata": {},
   "outputs": [
    {
     "name": "stdout",
     "output_type": "stream",
     "text": [
      "11 23\n",
      "Information\n"
     ]
    }
   ],
   "source": [
    "sentence = \"Management Information System\"\n",
    "print(sentence.index('Information'),sentence.index('System'))\n",
    "print(sentence[11:22])"
   ]
  },
  {
   "cell_type": "markdown",
   "metadata": {},
   "source": [
    "## 10번"
   ]
  },
  {
   "cell_type": "markdown",
   "metadata": {},
   "source": [
    "실수를 넣으면 정수를 반환하는 람다함수를 작성하시오."
   ]
  },
  {
   "cell_type": "code",
   "execution_count": 10,
   "metadata": {},
   "outputs": [
    {
     "name": "stdout",
     "output_type": "stream",
     "text": [
      "실수를 입력하세요.4.5\n",
      "4\n"
     ]
    }
   ],
   "source": [
    "x=float(input(\"실수를 입력하세요.\"))\n",
    "_int = lambda x:int(x)\n",
    "print(_int(x))"
   ]
  },
  {
   "cell_type": "code",
   "execution_count": 12,
   "metadata": {},
   "outputs": [
    {
     "name": "stdout",
     "output_type": "stream",
     "text": [
      "실수를 입력하세요.5.6\n",
      "5\n"
     ]
    }
   ],
   "source": [
    "print((lambda x:int(x))(float(input(\"실수를 입력하세요.\"))))"
   ]
  },
  {
   "cell_type": "code",
   "execution_count": 2,
   "metadata": {},
   "outputs": [
    {
     "name": "stdout",
     "output_type": "stream",
     "text": [
      "3\n"
     ]
    }
   ],
   "source": [
    "f=lambda x:int(x) if type(x) is float else x\n",
    "print(f(3.7))"
   ]
  },
  {
   "cell_type": "markdown",
   "metadata": {},
   "source": [
    "## 11번"
   ]
  },
  {
   "cell_type": "code",
   "execution_count": 52,
   "metadata": {},
   "outputs": [
    {
     "name": "stdout",
     "output_type": "stream",
     "text": [
      "* * * * *  \n",
      "* * * *  \n",
      "* * *  \n",
      "* *  \n",
      "*  \n"
     ]
    }
   ],
   "source": [
    "for i in range(1,6):\n",
    "    for j in range(i,6):\n",
    "              print(\"*\",end=\" \")\n",
    "    print(\" \")"
   ]
  },
  {
   "cell_type": "code",
   "execution_count": 1,
   "metadata": {},
   "outputs": [
    {
     "name": "stdout",
     "output_type": "stream",
     "text": [
      "15 14 13 12 11 \n",
      "10  9  8  7 \n",
      " 6  5  4 \n",
      " 3  2 \n",
      " 1 \n"
     ]
    }
   ],
   "source": [
    "x=15\n",
    "for i in range(0,5):\n",
    "    for j in range(0,5-i):\n",
    "        print(\"%2d\" % x, end=\" \")\n",
    "        x-=1\n",
    "    print()"
   ]
  },
  {
   "cell_type": "markdown",
   "metadata": {},
   "source": [
    "## 12번"
   ]
  },
  {
   "cell_type": "markdown",
   "metadata": {},
   "source": [
    " 입력받은 문자열을 거꾸로 출력하시오. "
   ]
  },
  {
   "cell_type": "code",
   "execution_count": 43,
   "metadata": {
    "scrolled": true
   },
   "outputs": [
    {
     "name": "stdout",
     "output_type": "stream",
     "text": [
      "abcde\n",
      "['e', 'd', 'c', 'b', 'a']\n"
     ]
    }
   ],
   "source": [
    "s=list(input())\n",
    "r=s[::-1]\n",
    "print(r)"
   ]
  },
  {
   "cell_type": "code",
   "execution_count": 46,
   "metadata": {},
   "outputs": [
    {
     "name": "stdout",
     "output_type": "stream",
     "text": [
      "edcba\n"
     ]
    }
   ],
   "source": [
    "str1 = 'abcde' \n",
    "str1_reverse = '' \n",
    "for char in str1: \n",
    "    str1_reverse = char + str1_reverse \n",
    "print(str1_reverse)\n"
   ]
  },
  {
   "cell_type": "code",
   "execution_count": 4,
   "metadata": {},
   "outputs": [
    {
     "name": "stdout",
     "output_type": "stream",
     "text": [
      "abcde\n",
      "edcba\n"
     ]
    }
   ],
   "source": [
    "s=list(input())\n",
    "s.reverse()\n",
    "print(''.join(s))"
   ]
  },
  {
   "cell_type": "markdown",
   "metadata": {},
   "source": [
    "## 13번"
   ]
  },
  {
   "cell_type": "markdown",
   "metadata": {},
   "source": [
    "입력받은 문자열을 단어 단위로 거꾸로 출력하시오."
   ]
  },
  {
   "cell_type": "code",
   "execution_count": 99,
   "metadata": {},
   "outputs": [
    {
     "name": "stdout",
     "output_type": "stream",
     "text": [
      "문자열을 입력하세요.나는 김민지\n",
      "['김민지', '나는']\n"
     ]
    }
   ],
   "source": [
    "str1 = input(\"문자열을 입력하세요.\")\n",
    "str1_split=str1.split(\" \")\n",
    "str1_reverse=[]\n",
    "\n",
    "for i in range(len(str1_split)-1,-1,-1):\n",
    "    str1_reverse.append(str1_split[i])\n",
    "\n",
    "print(str1_reverse)\n",
    "    "
   ]
  },
  {
   "cell_type": "code",
   "execution_count": 7,
   "metadata": {},
   "outputs": [
    {
     "name": "stdout",
     "output_type": "stream",
     "text": [
      "you love I\n"
     ]
    }
   ],
   "source": [
    "s=\"I love you\"\n",
    "s_split=s.split()\n",
    "s_split.reverse()\n",
    "\n",
    "print(' '.join(s_split))"
   ]
  },
  {
   "cell_type": "markdown",
   "metadata": {},
   "source": [
    "## 14번"
   ]
  },
  {
   "cell_type": "markdown",
   "metadata": {},
   "source": [
    "실수를 넣으면 반올림한 수를 반환하는 함수를 작성하시오. (def를 통해 함수를 정의하시오. 별도의 \n",
    "라이브러리를 import한다든지, 강의노트에 없는 별도의 함수(ex. round())를 쓸 수 없음) (ex. 3.7입력시 \n",
    "4 반환)"
   ]
  },
  {
   "cell_type": "code",
   "execution_count": 74,
   "metadata": {},
   "outputs": [
    {
     "name": "stdout",
     "output_type": "stream",
     "text": [
      "실수를 입력하세요. 3.5\n",
      "4\n"
     ]
    }
   ],
   "source": [
    "num=input(\"실수를 입력하세요. \")\n",
    "_num=num.split(\".\")\n",
    "a=int(_num[1])\n",
    "\n",
    "    \n",
    "def _round(num):\n",
    "    if a>=5 :\n",
    "        result= print(int(_num[0])+1)\n",
    "    else :\n",
    "        result = print(int(_num[0]))\n",
    "    return result\n",
    "\n",
    "_round(num)"
   ]
  },
  {
   "cell_type": "markdown",
   "metadata": {},
   "source": [
    "## 15번"
   ]
  },
  {
   "cell_type": "markdown",
   "metadata": {},
   "source": [
    "5명의 국어, 영어, 수학점수를 입력받는다. 람다함수를 이용하여 과목별로 평균 이상이면 \"상\", 미만이면 \"하\"를 아래와 같이 출력하시오."
   ]
  },
  {
   "cell_type": "code",
   "execution_count": 82,
   "metadata": {},
   "outputs": [
    {
     "name": "stdout",
     "output_type": "stream",
     "text": [
      "국어, 영어, 수학 순서대로 점수를 입력하세요.\n",
      "점수를 입력하세요 : 10 20 30 40 50\n",
      "점수를 입력하세요 : 20 30 40 50 60\n",
      "점수를 입력하세요 : 30 40 50 60 70\n",
      "하 하 하\n",
      "하 하 하\n",
      "상 상 상\n",
      "상 상 상\n",
      "상 상 상\n"
     ]
    }
   ],
   "source": [
    "def score() :\n",
    "    return [int(x) for x in input(\"점수를 입력하세요 : \").split()]\n",
    "\n",
    "print(\"국어, 영어, 수학 순서대로 점수를 입력하세요.\")\n",
    "kor,eng,math=score(),score(),score()\n",
    "\n",
    "def _sum(lst):\n",
    "    sum=0\n",
    "    for n in lst :\n",
    "        sum=sum+n\n",
    "    return sum\n",
    "\n",
    "_sum(kor),_sum(eng),_sum(math)\n",
    "\n",
    "def _mean(lst):\n",
    "    result=(lambda x,y:x/y)(_sum(lst),len(lst))\n",
    "    return result\n",
    "\n",
    "_mean(kor),_mean(eng),_mean(math)\n",
    "\n",
    "def evaluation(lst):\n",
    "    result=[]\n",
    "    for n in lst :\n",
    "        if n>=_mean(lst):\n",
    "            result.append(\"상\")\n",
    "        else :\n",
    "            result.append(\"하\")\n",
    "    return result\n",
    "    \n",
    "for x,y,z in zip(evaluation(kor),evaluation(eng),evaluation(math)):\n",
    "    print(x,y,z)"
   ]
  },
  {
   "cell_type": "markdown",
   "metadata": {},
   "source": [
    "## 16번"
   ]
  },
  {
   "cell_type": "markdown",
   "metadata": {},
   "source": [
    "100보다 큰 수가 들어올 때까지 숫자를 계속 읽어서 리스트에 저장한 뒤 100보다 큰 수가 들어오면 \" 가장 큰 수는 OO입니다.\"를 출력하고 종료하시오. "
   ]
  },
  {
   "cell_type": "code",
   "execution_count": 77,
   "metadata": {},
   "outputs": [
    {
     "name": "stdout",
     "output_type": "stream",
     "text": [
      "숫자를 입력하세요. 5\n",
      "[5]\n",
      "숫자를 입력하세요. 6\n",
      "[5, 6]\n",
      "숫자를 입력하세요. 7\n",
      "[5, 6, 7]\n",
      "숫자를 입력하세요. 22\n",
      "[5, 6, 7, 22]\n",
      "숫자를 입력하세요. 100\n",
      "[5, 6, 7, 22, 100]\n",
      "가장 큰 수는 100입니다.\n"
     ]
    }
   ],
   "source": [
    "num=[]\n",
    "while True:\n",
    "    n=int(input(\"숫자를 입력하세요. \"))\n",
    "    if n not in num:\n",
    "        num.append(n)\n",
    "        print(num)\n",
    "        if n >= 100 :\n",
    "            print(\"가장 큰 수는 {0}입니다.\".format(n))\n",
    "            break"
   ]
  },
  {
   "cell_type": "markdown",
   "metadata": {},
   "source": [
    "## 17번"
   ]
  },
  {
   "cell_type": "markdown",
   "metadata": {},
   "source": [
    "다섯 개의 숫자를 입력받아 그 중 소수의 갯수를 출력하시오. "
   ]
  },
  {
   "cell_type": "code",
   "execution_count": 24,
   "metadata": {},
   "outputs": [
    {
     "name": "stdout",
     "output_type": "stream",
     "text": [
      "숫자를 입력하세요. 1\n",
      "숫자를 입력하세요. 2\n",
      "숫자를 입력하세요. 3\n",
      "숫자를 입력하세요. 4\n",
      "숫자를 입력하세요. 5\n",
      "3\n"
     ]
    }
   ],
   "source": [
    "import math\n",
    "\n",
    "def prime_number(number):  \n",
    "    if number != 1:                 \n",
    "        for f in range(2, number):  \n",
    "            if number % f == 0:     \n",
    "                return False  \n",
    "    elif number==1:                      \n",
    "        return False         \n",
    "    return True                 \n",
    "\n",
    "num=[]\n",
    "\n",
    "while len(num)<=4 :\n",
    "    n=int(input(\"숫자를 입력하세요. \"))\n",
    "    if n not in num :\n",
    "        num.append(n)\n",
    "    else:\n",
    "        print(\"이전에 입력했던 숫자 외에 다른 수를 입력하세요.\")\n",
    "\n",
    "c=0\n",
    "for i in range(0,len(num)):\n",
    "    if prime_number(num[i])==True :\n",
    "        c+=1\n",
    "    else:\n",
    "        pass\n",
    "\n",
    "print(c)"
   ]
  },
  {
   "cell_type": "markdown",
   "metadata": {},
   "source": [
    "## 18번"
   ]
  },
  {
   "cell_type": "markdown",
   "metadata": {},
   "source": [
    "1부터 10까지 중 난수 세 개를 발생시키고 숫자 세 개를 입력 받아서 아래와 같이 출력하시오."
   ]
  },
  {
   "cell_type": "code",
   "execution_count": 83,
   "metadata": {},
   "outputs": [
    {
     "name": "stdout",
     "output_type": "stream",
     "text": [
      "숫자를 입력하세요.10\n",
      "숫자를 입력하세요.11\n",
      "1과 10사이의 숫자를 입력하세요.\n",
      "숫자를 입력하세요.5\n",
      "숫자를 입력하세요.7\n",
      "[2, 4, 7]\n",
      "[5, 7, 10]\n",
      "원 스트라이크, 투 볼\n"
     ]
    }
   ],
   "source": [
    "import random\n",
    "\n",
    "computer_nums=[]\n",
    "user_nums=[]\n",
    "\n",
    "while len(computer_nums)<=2:\n",
    "    num=random.randrange(1,10)\n",
    "    if num not in computer_nums :\n",
    "        computer_nums.append(num)\n",
    "        \n",
    "while len(user_nums)<=2:\n",
    "    num=int(input(\"숫자를 입력하세요.\"))\n",
    "    if num>=1 and num <=10 :\n",
    "        if num not in user_nums :\n",
    "            user_nums.append(num)\n",
    "        else :\n",
    "            print(\"이전에 입력하지 않았던 수를 입력하세요.\")\n",
    "    else :\n",
    "        print(\"1과 10사이의 숫자를 입력하세요.\")\n",
    "        \n",
    "c=0\n",
    "for i in range(3):\n",
    "    if user_nums[i] in computer_nums:\n",
    "        c+=1\n",
    "\n",
    "print(sorted(computer_nums))\n",
    "print(sorted(user_nums))\n",
    "\n",
    "if c==1 :\n",
    "    print(\"원 스트라이크, 투 볼\")\n",
    "elif c==2 :\n",
    "    print(\"투 스트라이크, 원 볼\")\n",
    "elif c==3 :\n",
    "    print(\"아웃\")\n",
    "elif c==0 :\n",
    "    print(\"쓰리 볼\")"
   ]
  },
  {
   "cell_type": "code",
   "execution_count": null,
   "metadata": {},
   "outputs": [],
   "source": []
  }
 ],
 "metadata": {
  "kernelspec": {
   "display_name": "Python 3",
   "language": "python",
   "name": "python3"
  },
  "language_info": {
   "codemirror_mode": {
    "name": "ipython",
    "version": 3
   },
   "file_extension": ".py",
   "mimetype": "text/x-python",
   "name": "python",
   "nbconvert_exporter": "python",
   "pygments_lexer": "ipython3",
   "version": "3.8.3"
  }
 },
 "nbformat": 4,
 "nbformat_minor": 4
}
