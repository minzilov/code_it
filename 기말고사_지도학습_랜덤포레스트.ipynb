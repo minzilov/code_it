{
 "cells": [
  {
   "cell_type": "code",
   "execution_count": 1,
   "metadata": {},
   "outputs": [],
   "source": [
    "import pandas as pd\n",
    "import numpy as np\n",
    "from sklearn import model_selection\n",
    "from sklearn import metrics\n",
    "import matplotlib.pyplot as plt\n",
    "from sklearn import datasets\n",
    "from sklearn.tree import DecisionTreeClassifier"
   ]
  },
  {
   "cell_type": "code",
   "execution_count": 2,
   "metadata": {},
   "outputs": [],
   "source": [
    "#데이터 불러오기\n",
    "df=pd.read_csv(\"data/winequality-red.csv\")"
   ]
  },
  {
   "cell_type": "markdown",
   "metadata": {},
   "source": [
    "## 데이터전처리"
   ]
  },
  {
   "cell_type": "code",
   "execution_count": 3,
   "metadata": {},
   "outputs": [
    {
     "data": {
      "text/plain": [
       "fixed acidity           0\n",
       "volatile acidity        0\n",
       "citric acid             0\n",
       "residual sugar          0\n",
       "chlorides               0\n",
       "free sulfur dioxide     0\n",
       "total sulfur dioxide    0\n",
       "density                 0\n",
       "pH                      0\n",
       "sulphates               0\n",
       "alcohol                 0\n",
       "quality                 0\n",
       "dtype: int64"
      ]
     },
     "execution_count": 3,
     "metadata": {},
     "output_type": "execute_result"
    }
   ],
   "source": [
    "#결측값 확인\n",
    "df.isnull().sum()\n",
    "#df.info() -> 결측값, Dtype을 확인할 수 있음"
   ]
  },
  {
   "cell_type": "code",
   "execution_count": 4,
   "metadata": {},
   "outputs": [
    {
     "name": "stdout",
     "output_type": "stream",
     "text": [
      "X_train 크기 : (1119, 11)\n",
      "y_train 크기 : (1119,)\n",
      "X_test 크기 : (480, 11)\n",
      "y_test 크기 : (480,)\n"
     ]
    }
   ],
   "source": [
    "#수치형으로 변환\n",
    "df['quality'] = df['quality'].map({\n",
    "        3 : 0,\n",
    "        4 : 0,\n",
    "        5 : 0,\n",
    "        6 : 0,\n",
    "        7 : 1,\n",
    "        8 : 1         \n",
    "})\n",
    "\n",
    "#X와 y값 지정\n",
    "X=df.drop('quality', axis=1)\n",
    "y=np.array(df['quality'])\n",
    "\n",
    "#train data와 test 데이터 지정\n",
    "from sklearn.model_selection import train_test_split\n",
    "\n",
    "X_train, X_test, y_train, y_test = train_test_split(X, y, test_size = 0.3, random_state = 0)\n",
    "\n",
    "print(\"X_train 크기 :\",X_train.shape)\n",
    "print(\"y_train 크기 :\",y_train.shape)\n",
    "print(\"X_test 크기 :\",X_test.shape)\n",
    "print(\"y_test 크기 :\",y_test.shape)"
   ]
  },
  {
   "cell_type": "code",
   "execution_count": 5,
   "metadata": {},
   "outputs": [
    {
     "name": "stdout",
     "output_type": "stream",
     "text": [
      "정확도 :  0.8645833333333334\n"
     ]
    }
   ],
   "source": [
    "#depth 지정 및 의사결정나무 알고리즘으로 적합화\n",
    "from sklearn.tree import DecisionTreeClassifier\n",
    "\n",
    "tree = DecisionTreeClassifier(random_state=0, max_depth=3)\n",
    "tree.fit(X_train, y_train)\n",
    "\n",
    "#예측값\n",
    "temp_y_pred = tree.predict(X_test)\n",
    "\n",
    "#예측값과 실제값의 정확도 확인\n",
    "#print(\">예측값\\n\",temp_y_pred)\n",
    "#print(\">실제값\\n\",y_test)\n",
    "from sklearn.metrics import classification_report, accuracy_score, confusion_matrix\n",
    "temp_acc = accuracy_score(y_test, temp_y_pred)\n",
    "print(\"정확도 : \", format(temp_acc))"
   ]
  },
  {
   "cell_type": "markdown",
   "metadata": {},
   "source": [
    "## Decision Tree(의사결정나무)\n",
    "### 장점\n",
    "- 분류규칙에 대한 시각화 가능\n",
    "- 다른 알고리즘은 블랙박스처럼 예측결과의 도출과정을 알 수 없음\n",
    "\n",
    "### 단점\n",
    "- 과적합이 일어나기 쉬움 \n",
    "    - 적당한 가지치기가 필요함"
   ]
  },
  {
   "cell_type": "code",
   "execution_count": 6,
   "metadata": {},
   "outputs": [
    {
     "name": "stdout",
     "output_type": "stream",
     "text": [
      "[[395  35]\n",
      " [ 30  20]]\n",
      "accuracy :  0.8645833333333334\n",
      "precision :  0.36363636363636365\n",
      "recall :  0.4\n",
      "f1 :  0.380952380952381\n",
      ">1, train:0.851, test:0.896\n",
      ">2, train:0.876, test:0.912\n",
      ">3, train:0.885, test:0.865\n",
      ">4, train:0.907, test:0.896\n",
      ">5, train:0.926, test:0.875\n",
      ">6, train:0.950, test:0.906\n",
      ">7, train:0.964, test:0.896\n",
      ">8, train:0.978, test:0.894\n",
      ">9, train:0.991, test:0.894\n",
      ">10, train:0.996, test:0.883\n",
      ">11, train:0.998, test:0.877\n",
      ">12, train:1.000, test:0.881\n",
      ">13, train:1.000, test:0.894\n",
      ">14, train:1.000, test:0.875\n",
      ">15, train:1.000, test:0.881\n",
      ">16, train:1.000, test:0.883\n",
      ">17, train:1.000, test:0.873\n",
      ">18, train:1.000, test:0.885\n",
      ">19, train:1.000, test:0.885\n"
     ]
    }
   ],
   "source": [
    "#오차행렬\n",
    "print(confusion_matrix(y_test, temp_y_pred))\n",
    "# TN FP\n",
    "# FN TP\n",
    "\n",
    "#분류모델의 성능평가\n",
    "from sklearn.metrics import precision_score, recall_score, f1_score\n",
    "\n",
    "print('accuracy : ', accuracy_score(y_test,temp_y_pred))\n",
    "print('precision : ', precision_score(y_test,temp_y_pred))\n",
    "print('recall : ', recall_score(y_test,temp_y_pred))\n",
    "print('f1 : ', f1_score(y_test,temp_y_pred))\n",
    "\n",
    "train_scores, test_scores = list(), list()\n",
    "#train_score와 test_score의 정확도를 저장 장소\n",
    "#train_score는 훈련데이터에 특화될수록 증가\n",
    "#test_score는 테스트데이터에 일반화될수록 증가\n",
    "\n",
    "#의사결정나무 모델의 depth 조절(1부터 19까지)\n",
    "for i in range(1,20):\n",
    "    DT1 = DecisionTreeClassifier(max_depth=i)\n",
    "    #깊이를 증가시키면서 의사결정나무 모델 적합\n",
    "    DT1.fit(X_train, y_train)\n",
    "    \n",
    "    #training dataset 정확도 평가\n",
    "    train_att = DT1.predict(X_train)\n",
    "    train_acc = accuracy_score(y_train, train_att)\n",
    "    train_scores.append(train_acc)\n",
    "    \n",
    "    #test dataset 정확도 평가\n",
    "    test_att = DT1.predict(X_test)\n",
    "    test_acc = accuracy_score(y_test, test_att)\n",
    "    test_scores.append(test_acc)\n",
    "    \n",
    "    #train 정확도와 test 정확도를 depth 개수에 따른 정확도 확인\n",
    "    print('>%d, train:%.3f, test:%.3f' %(i,train_acc, test_acc))"
   ]
  },
  {
   "cell_type": "code",
   "execution_count": 7,
   "metadata": {},
   "outputs": [
    {
     "data": {
      "image/png": "[encoded data removed]",
      "text/plain": [
       "<Figure size 432x288 with 1 Axes>"
      ]
     },
     "metadata": {
      "needs_background": "light"
     },
     "output_type": "display_data"
    }
   ],
   "source": [
    "#적합한 depth를 설정할 수 있도록 도와주는 그래프\n",
    "from matplotlib import pyplot\n",
    "\n",
    "pyplot.plot(range(1,20), train_scores, '-o', label='Train_acc')\n",
    "pyplot.plot(range(1,20), test_scores, '-o', label='Test_acc')\n",
    "pyplot.legend()\n",
    "pyplot.show()"
   ]
  },
  {
   "cell_type": "code",
   "execution_count": 8,
   "metadata": {},
   "outputs": [
    {
     "data": {
      "image/png": "[encoded data removed]",
      "text/plain": [
       "<Figure size 432x288 with 1 Axes>"
      ]
     },
     "metadata": {
      "needs_background": "light"
     },
     "output_type": "display_data"
    }
   ],
   "source": [
    "#ROC\n",
    "from sklearn.metrics import roc_curve\n",
    "\n",
    "fpr, tpr, thresholds = roc_curve(y_test, tree.predict_proba(X_test)[:,1])\n",
    "plt.plot(fpr,tpr,'-',ms=2,label='Decision Tree')\n",
    "plt.plot([0,1],[0,1],'--', label=\"Random Games\")\n",
    "\n",
    "plt.xlabel('False Positive Rate')\n",
    "plt.ylabel('True Positive Rate')\n",
    "plt.title('Roc Curves')\n",
    "plt.legend(loc=\"lower right\")\n",
    "plt.show()"
   ]
  },
  {
   "cell_type": "code",
   "execution_count": 9,
   "metadata": {},
   "outputs": [
    {
     "name": "stdout",
     "output_type": "stream",
     "text": [
      "Area Under Curve : 0.81\n"
     ]
    }
   ],
   "source": [
    "#AUC\n",
    "from sklearn import metrics\n",
    "roc_auc=metrics.auc(fpr,tpr)\n",
    "print('Area Under Curve : %0.2f'%roc_auc)"
   ]
  },
  {
   "cell_type": "markdown",
   "metadata": {},
   "source": [
    "---\n",
    "## Random Forest(랜덤포레스트)\n",
    "- 여러 나무를 모아 숲을 만듦으로써 더 좋은 예측을 하게 하는 앙상블 기법\n",
    "- 여러 의사결정나무의 분류결과를 취합하여 투표 형태로 결과를 얻음\n",
    "\n",
    "### 구현방법\n",
    "- 복원 추출로 데이터 부분집합들을 만들고, 일부 속성을 이용하여 서로 다른 여러 개의 의사결정나무를 만든 후 다수결로 분류\n",
    "\n",
    "### 장점\n",
    "- 예측의 변동성이 줄어들며, 과적합(의사결정나무의 단점)을 방지할 수 있음\n",
    "- 결측치의 비율이 높아져도 높은 정확도를 나타냄\n",
    "\n",
    "### 단점\n",
    "- 분류 규칙을 확인할 수 없어 결과에 대한 해석이 제한됨 -> 의사결정나무의 단점과 동일\n",
    "- 나무의 수를 늘릴수록 의사결정나무에 비해 속도가 크게 떨어짐\n"
   ]
  },
  {
   "cell_type": "code",
   "execution_count": 10,
   "metadata": {},
   "outputs": [
    {
     "name": "stdout",
     "output_type": "stream",
     "text": [
      "정확도 :  0.9270833333333334\n",
      ">10, accL 0.908\n",
      ">15, accL 0.919\n",
      ">20, accL 0.919\n",
      ">25, accL 0.912\n",
      ">30, accL 0.917\n",
      ">35, accL 0.917\n",
      ">40, accL 0.919\n",
      ">45, accL 0.923\n",
      ">50, accL 0.927\n",
      ">55, accL 0.925\n",
      ">60, accL 0.929\n",
      ">65, accL 0.927\n",
      ">70, accL 0.927\n",
      ">75, accL 0.925\n",
      ">80, accL 0.929\n",
      ">85, accL 0.927\n",
      ">90, accL 0.927\n",
      ">95, accL 0.925\n",
      ">100, accL 0.927\n",
      ">105, accL 0.927\n",
      ">110, accL 0.927\n",
      ">115, accL 0.923\n",
      ">120, accL 0.925\n",
      ">125, accL 0.925\n",
      ">130, accL 0.925\n",
      ">135, accL 0.927\n",
      ">140, accL 0.925\n",
      ">145, accL 0.925\n",
      ">150, accL 0.927\n",
      ">155, accL 0.923\n",
      ">160, accL 0.925\n",
      ">165, accL 0.925\n",
      ">170, accL 0.927\n",
      ">175, accL 0.927\n",
      ">180, accL 0.927\n",
      ">185, accL 0.929\n",
      ">190, accL 0.927\n",
      ">195, accL 0.929\n",
      ">200, accL 0.929\n",
      ">205, accL 0.929\n",
      ">210, accL 0.929\n",
      ">215, accL 0.929\n",
      ">220, accL 0.929\n",
      ">225, accL 0.929\n",
      ">230, accL 0.929\n",
      ">235, accL 0.931\n",
      ">240, accL 0.927\n",
      ">245, accL 0.927\n",
      ">250, accL 0.927\n",
      ">255, accL 0.927\n",
      ">260, accL 0.927\n",
      ">265, accL 0.927\n",
      ">270, accL 0.927\n",
      ">275, accL 0.927\n",
      ">280, accL 0.925\n",
      ">285, accL 0.925\n",
      ">290, accL 0.925\n",
      ">295, accL 0.923\n",
      ">300, accL 0.923\n",
      ">305, accL 0.923\n",
      ">310, accL 0.923\n",
      ">315, accL 0.923\n",
      ">320, accL 0.923\n",
      ">325, accL 0.923\n",
      ">330, accL 0.923\n",
      ">335, accL 0.925\n",
      ">340, accL 0.925\n",
      ">345, accL 0.925\n",
      ">350, accL 0.925\n",
      ">355, accL 0.925\n",
      ">360, accL 0.925\n",
      ">365, accL 0.925\n",
      ">370, accL 0.925\n",
      ">375, accL 0.925\n",
      ">380, accL 0.927\n",
      ">385, accL 0.925\n",
      ">390, accL 0.925\n",
      ">395, accL 0.923\n",
      ">400, accL 0.925\n",
      ">405, accL 0.923\n",
      ">410, accL 0.925\n",
      ">415, accL 0.925\n",
      ">420, accL 0.925\n",
      ">425, accL 0.925\n",
      ">430, accL 0.925\n",
      ">435, accL 0.925\n",
      ">440, accL 0.925\n",
      ">445, accL 0.925\n",
      ">450, accL 0.925\n",
      ">455, accL 0.925\n",
      ">460, accL 0.923\n",
      ">465, accL 0.923\n",
      ">470, accL 0.921\n",
      ">475, accL 0.921\n",
      ">480, accL 0.923\n",
      ">485, accL 0.921\n",
      ">490, accL 0.923\n",
      ">495, accL 0.921\n"
     ]
    }
   ],
   "source": [
    "from sklearn.ensemble import RandomForestClassifier\n",
    "\n",
    "#n_estimators : 사용할 tree의 개수\n",
    "RF = RandomForestClassifier(n_estimators=100, random_state=0)\n",
    "\n",
    "#RF 모델 적합화\n",
    "RF.fit(X_train, y_train)\n",
    "temp_y_pred_rf=RF.predict(X_test)\n",
    "\n",
    "#정확도 계산\n",
    "temp_acc=accuracy_score(y_test,temp_y_pred_rf)\n",
    "print(\"정확도 : \",format(temp_acc))\n",
    "\n",
    "\n",
    "\n",
    "#사용할 tree의 개수를 조정하여서 정확도를 계산\n",
    "scores = []\n",
    "for i in range(10, 500, 5):\n",
    "    RF = RandomForestClassifier(n_estimators=i, random_state=0)\n",
    "    RF.fit(X_train, y_train)\n",
    "    \n",
    "    att=RF.predict(X_test)\n",
    "    acc=accuracy_score(y_test, att)\n",
    "    scores.append(acc)\n",
    "    \n",
    "    print('>%d, accL %.3f'%(i,acc))"
   ]
  },
  {
   "cell_type": "code",
   "execution_count": 11,
   "metadata": {},
   "outputs": [
    {
     "data": {
      "text/plain": [
       "<matplotlib.legend.Legend at 0x1d6945b2d90>"
      ]
     },
     "execution_count": 11,
     "metadata": {},
     "output_type": "execute_result"
    },
    {
     "data": {
      "image/png": "[encoded data removed]",
      "text/plain": [
       "<Figure size 432x288 with 1 Axes>"
      ]
     },
     "metadata": {
      "needs_background": "light"
     },
     "output_type": "display_data"
    }
   ],
   "source": [
    "#랜덤포레스트의 나무의 개수에 따른 정확도 시각화\n",
    "pyplot.plot(range(10,500,5), scores, 'r--', label='RF_acc')\n",
    "pyplot.legend()"
   ]
  },
  {
   "cell_type": "code",
   "execution_count": 12,
   "metadata": {},
   "outputs": [
    {
     "name": "stdout",
     "output_type": "stream",
     "text": [
      "[의사결정나무 모델]\n",
      "accuracy :  0.8645833333333334\n",
      "precision :  0.36363636363636365\n",
      "recall :  0.4\n",
      "f1 :  0.380952380952381\n",
      "[랜덤포레스트 모델]\n",
      "accuracy :  0.93125\n",
      "precision :  0.6808510638297872\n",
      "recall :  0.64\n",
      "f1 :  0.6597938144329897\n"
     ]
    }
   ],
   "source": [
    "#분류모델 성능평가\n",
    "\n",
    "#의사결정나무 모델\n",
    "print(\"[의사결정나무 모델]\")\n",
    "print('accuracy : ', accuracy_score(y_test, temp_y_pred))\n",
    "print('precision : ', precision_score(y_test, temp_y_pred))\n",
    "print('recall : ', recall_score(y_test, temp_y_pred))\n",
    "print('f1 : ', f1_score(y_test, temp_y_pred))\n",
    "\n",
    "#랜덤포레스트 모델\n",
    "print(\"[랜덤포레스트 모델]\")\n",
    "RF = RandomForestClassifier(n_estimators=235, random_state=0)\n",
    "RF.fit(X_train, y_train)\n",
    "temp_y_pred_rf=RF.predict(X_test)\n",
    "print('accuracy : ', accuracy_score(y_test, temp_y_pred_rf))\n",
    "print('precision : ', precision_score(y_test, temp_y_pred_rf))\n",
    "print('recall : ', recall_score(y_test, temp_y_pred_rf))\n",
    "print('f1 : ', f1_score(y_test, temp_y_pred_rf))"
   ]
  },
  {
   "cell_type": "code",
   "execution_count": 13,
   "metadata": {},
   "outputs": [
    {
     "data": {
      "text/plain": [
       "<matplotlib.legend.Legend at 0x1d6944cac10>"
      ]
     },
     "execution_count": 13,
     "metadata": {},
     "output_type": "execute_result"
    },
    {
     "data": {
      "image/png": "[encoded data removed]",
      "text/plain": [
       "<Figure size 432x288 with 1 Axes>"
      ]
     },
     "metadata": {
      "needs_background": "light"
     },
     "output_type": "display_data"
    }
   ],
   "source": [
    "#ROC 시각화\n",
    "from sklearn.metrics import roc_curve\n",
    "\n",
    "fpr1, tpr1, thresholds1 =roc_curve(y_test, tree.predict_proba(X_test)[:,1])\n",
    "fpr2, tpr2, thresholds2 = roc_curve(y_test, RF.predict_proba(X_test)[:,1])\n",
    "\n",
    "plt.plot(fpr1, tpr1, 'b--', label='Decision Tree')\n",
    "plt.plot(fpr2, tpr2, 'r--', label='Random Forest')\n",
    "plt.plot([0,1], [0,1], 'g--', label='random guess')\n",
    "\n",
    "plt.title('ROC curves')\n",
    "plt.xlabel('False Positive Rate')\n",
    "plt.ylabel('True Positive Rate')\n",
    "plt.legend(loc=\"lower right\")"
   ]
  },
  {
   "cell_type": "code",
   "execution_count": 14,
   "metadata": {},
   "outputs": [
    {
     "data": {
      "text/plain": [
       "<matplotlib.legend.Legend at 0x1d6946679d0>"
      ]
     },
     "execution_count": 14,
     "metadata": {},
     "output_type": "execute_result"
    },
    {
     "data": {
      "image/png": "[encoded data removed]",
      "text/plain": [
       "<Figure size 432x288 with 1 Axes>"
      ]
     },
     "metadata": {
      "needs_background": "light"
     },
     "output_type": "display_data"
    }
   ],
   "source": [
    "#연혁에 AUC 값 출력\n",
    "roc_auc_DT = metrics.auc(fpr1, tpr1)\n",
    "roc_auc_RF = metrics.auc(fpr2, tpr2)\n",
    "\n",
    "plt.plot(fpr1, tpr1, 'b--', label='Decision Tree (area = %0.2f)' %roc_auc_DT)\n",
    "plt.plot(fpr2, tpr2, 'r--', label='Random Forest (area = %0.2f)' %roc_auc_RF)\n",
    "plt.plot([0,1], [0,1], 'g--', label='random guess')\n",
    "\n",
    "plt.title('ROC curves')\n",
    "plt.xlabel('False Positive Rate')\n",
    "plt.ylabel('True Positive Rate')\n",
    "plt.legend(loc=\"lower right\")"
   ]
  },
  {
   "cell_type": "markdown",
   "metadata": {},
   "source": [
    "## ROC\n",
    "- ROC 곡선은 FPR(FP비율)을 X축, TPR(TP비율) y축으로 하는 그래프\n",
    "- TP = 1, FP = 0 -> 가장 이상적임\n",
    "- TP = FP -> 가장 최악임 (일직선의 형태)\n",
    "\n",
    "## AUC\n",
    "- ROC 곡선을 정량적으로 평가하기 위해 ROC 곡선 아래의 면적을 수치화한 값\n",
    "- AUC가 높으면 모델의 성능이 우수함을 의미\n",
    "- AUC의 최대값은 1이며, 1에 가까울수록 우수한 모델\n",
    "\n",
    "- AUC가 0.7이라고 가정\n",
    "  - Threshold 좌측 이동시 FN이 줄어들면서 TP가 증가\n",
    "  - Threshold 우측 이동시 FP가 줄어들면서 TN이 증가"
   ]
  },
  {
   "cell_type": "code",
   "execution_count": null,
   "metadata": {},
   "outputs": [],
   "source": []
  }
 ],
 "metadata": {
  "kernelspec": {
   "display_name": "Python 3",
   "language": "python",
   "name": "python3"
  },
  "language_info": {
   "codemirror_mode": {
    "name": "ipython",
    "version": 3
   },
   "file_extension": ".py",
   "mimetype": "text/x-python",
   "name": "python",
   "nbconvert_exporter": "python",
   "pygments_lexer": "ipython3",
   "version": "3.8.3"
  }
 },
 "nbformat": 4,
 "nbformat_minor": 4
}
