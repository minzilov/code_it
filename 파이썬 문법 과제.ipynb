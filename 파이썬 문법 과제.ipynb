{
 "cells": [
  {
   "cell_type": "markdown",
   "metadata": {},
   "source": [
    "## 과제 2-1"
   ]
  },
  {
   "cell_type": "markdown",
   "metadata": {},
   "source": [
    "• 아래 문장을 임의의 문자형 변수에 저장합니다. So Jesus said to the Jews who had believed him, “If you abide in my word, you are truly my disciples, and you will know the truth, and the truth will set you free.”"
   ]
  },
  {
   "cell_type": "markdown",
   "metadata": {},
   "source": [
    "• 인덱싱을 활용해 \"the truth will set you free\" 부분만 잘라내어 새로\n",
    "운 변수에 저장하고 이를 3회 출력합니다. the truth will set you free\n",
    "the truth will set you free\n",
    "the truth will set you free"
   ]
  },
  {
   "cell_type": "code",
   "execution_count": 15,
   "metadata": {},
   "outputs": [
    {
     "name": "stdout",
     "output_type": "stream",
     "text": [
      "the truth will set you free.\n",
      "\n",
      "the truth will set you free.\n",
      "\n",
      "the truth will set you free.\n",
      "\n"
     ]
    }
   ],
   "source": [
    "sentence = \"So Jesus said to the Jews who had believed him,\\\"If you abide in my word, you are truly my disciples, and you will know the truth, and the truth will set you free.\\\"\"\n",
    "#print(len(sentence))\n",
    "new_sentence = sentence[134:162]\n",
    "#print(new_sentence)\n",
    "\n",
    "for i in range (3):\n",
    "    print(new_sentence+\"\\n\")"
   ]
  },
  {
   "cell_type": "markdown",
   "metadata": {},
   "source": [
    "## 과제 2-4"
   ]
  },
  {
   "cell_type": "markdown",
   "metadata": {},
   "source": [
    "• 과일 이름을 입력받아 딸기, 바나나, 사과 중 포함될 경우 yes, 그렇지 않으면 no를 출력하시오."
   ]
  },
  {
   "cell_type": "markdown",
   "metadata": {},
   "source": [
    "• 과일에 대한 자료형은 리스트를 사용하고 리스트에 과일을 추가할 때는 리스트 내장함수를 활용하시오."
   ]
  },
  {
   "cell_type": "code",
   "execution_count": 1,
   "metadata": {},
   "outputs": [
    {
     "name": "stdout",
     "output_type": "stream",
     "text": [
      "과일을 입력하세요.망고\n",
      "['망고']\n",
      "No\n",
      "과일을 입력하세요.체리\n",
      "['망고', '체리']\n",
      "No\n",
      "과일을 입력하세요.바나나\n",
      "['망고', '체리', '바나나']\n",
      "Yes\n",
      "과일을 입력하세요.딸기\n",
      "['망고', '체리', '바나나', '딸기']\n",
      "Yes\n",
      "과일을 입력하세요.사과\n",
      "['망고', '체리', '바나나', '딸기', '사과']\n",
      "Yes\n",
      "과일을 입력하세요.포도\n",
      "['망고', '체리', '바나나', '딸기', '사과', '포도']\n",
      "No\n"
     ]
    },
    {
     "ename": "KeyboardInterrupt",
     "evalue": "Interrupted by user",
     "output_type": "error",
     "traceback": [
      "\u001b[1;31m---------------------------------------------------------------------------\u001b[0m",
      "\u001b[1;31mKeyboardInterrupt\u001b[0m                         Traceback (most recent call last)",
      "\u001b[1;32m<ipython-input-1-56421bc732a5>\u001b[0m in \u001b[0;36m<module>\u001b[1;34m\u001b[0m\n\u001b[0;32m      4\u001b[0m \u001b[1;33m\u001b[0m\u001b[0m\n\u001b[0;32m      5\u001b[0m \u001b[1;32mwhile\u001b[0m \u001b[1;32mTrue\u001b[0m \u001b[1;33m:\u001b[0m\u001b[1;33m\u001b[0m\u001b[1;33m\u001b[0m\u001b[0m\n\u001b[1;32m----> 6\u001b[1;33m     \u001b[0mfruit\u001b[0m\u001b[1;33m=\u001b[0m\u001b[0minput\u001b[0m\u001b[1;33m(\u001b[0m\u001b[1;34m\"과일을 입력하세요.\"\u001b[0m\u001b[1;33m)\u001b[0m\u001b[1;33m\u001b[0m\u001b[1;33m\u001b[0m\u001b[0m\n\u001b[0m\u001b[0;32m      7\u001b[0m     \u001b[0mfruits\u001b[0m\u001b[1;33m.\u001b[0m\u001b[0mappend\u001b[0m\u001b[1;33m(\u001b[0m\u001b[0mfruit\u001b[0m\u001b[1;33m)\u001b[0m\u001b[1;33m\u001b[0m\u001b[1;33m\u001b[0m\u001b[0m\n\u001b[0;32m      8\u001b[0m     \u001b[0mprint\u001b[0m\u001b[1;33m(\u001b[0m\u001b[0mfruits\u001b[0m\u001b[1;33m)\u001b[0m\u001b[1;33m\u001b[0m\u001b[1;33m\u001b[0m\u001b[0m\n",
      "\u001b[1;32m~\\anaconda3\\lib\\site-packages\\ipykernel\\kernelbase.py\u001b[0m in \u001b[0;36mraw_input\u001b[1;34m(self, prompt)\u001b[0m\n\u001b[0;32m    858\u001b[0m                 \u001b[1;34m\"raw_input was called, but this frontend does not support input requests.\"\u001b[0m\u001b[1;33m\u001b[0m\u001b[1;33m\u001b[0m\u001b[0m\n\u001b[0;32m    859\u001b[0m             )\n\u001b[1;32m--> 860\u001b[1;33m         return self._input_request(str(prompt),\n\u001b[0m\u001b[0;32m    861\u001b[0m             \u001b[0mself\u001b[0m\u001b[1;33m.\u001b[0m\u001b[0m_parent_ident\u001b[0m\u001b[1;33m,\u001b[0m\u001b[1;33m\u001b[0m\u001b[1;33m\u001b[0m\u001b[0m\n\u001b[0;32m    862\u001b[0m             \u001b[0mself\u001b[0m\u001b[1;33m.\u001b[0m\u001b[0m_parent_header\u001b[0m\u001b[1;33m,\u001b[0m\u001b[1;33m\u001b[0m\u001b[1;33m\u001b[0m\u001b[0m\n",
      "\u001b[1;32m~\\anaconda3\\lib\\site-packages\\ipykernel\\kernelbase.py\u001b[0m in \u001b[0;36m_input_request\u001b[1;34m(self, prompt, ident, parent, password)\u001b[0m\n\u001b[0;32m    902\u001b[0m             \u001b[1;32mexcept\u001b[0m \u001b[0mKeyboardInterrupt\u001b[0m\u001b[1;33m:\u001b[0m\u001b[1;33m\u001b[0m\u001b[1;33m\u001b[0m\u001b[0m\n\u001b[0;32m    903\u001b[0m                 \u001b[1;31m# re-raise KeyboardInterrupt, to truncate traceback\u001b[0m\u001b[1;33m\u001b[0m\u001b[1;33m\u001b[0m\u001b[1;33m\u001b[0m\u001b[0m\n\u001b[1;32m--> 904\u001b[1;33m                 \u001b[1;32mraise\u001b[0m \u001b[0mKeyboardInterrupt\u001b[0m\u001b[1;33m(\u001b[0m\u001b[1;34m\"Interrupted by user\"\u001b[0m\u001b[1;33m)\u001b[0m \u001b[1;32mfrom\u001b[0m \u001b[1;32mNone\u001b[0m\u001b[1;33m\u001b[0m\u001b[1;33m\u001b[0m\u001b[0m\n\u001b[0m\u001b[0;32m    905\u001b[0m             \u001b[1;32mexcept\u001b[0m \u001b[0mException\u001b[0m \u001b[1;32mas\u001b[0m \u001b[0me\u001b[0m\u001b[1;33m:\u001b[0m\u001b[1;33m\u001b[0m\u001b[1;33m\u001b[0m\u001b[0m\n\u001b[0;32m    906\u001b[0m                 \u001b[0mself\u001b[0m\u001b[1;33m.\u001b[0m\u001b[0mlog\u001b[0m\u001b[1;33m.\u001b[0m\u001b[0mwarning\u001b[0m\u001b[1;33m(\u001b[0m\u001b[1;34m\"Invalid Message:\"\u001b[0m\u001b[1;33m,\u001b[0m \u001b[0mexc_info\u001b[0m\u001b[1;33m=\u001b[0m\u001b[1;32mTrue\u001b[0m\u001b[1;33m)\u001b[0m\u001b[1;33m\u001b[0m\u001b[1;33m\u001b[0m\u001b[0m\n",
      "\u001b[1;31mKeyboardInterrupt\u001b[0m: Interrupted by user"
     ]
    }
   ],
   "source": [
    "fruits=[]\n",
    "base=[\"딸기\",\"바나나\",\"사과\"]\n",
    "i=0\n",
    "\n",
    "while True :\n",
    "    fruit=input(\"과일을 입력하세요.\")\n",
    "    fruits.append(fruit)\n",
    "    print(fruits)\n",
    "    \n",
    "    for i in range(i,len(fruits)):\n",
    "        if fruits[i] in base :\n",
    "            print(\"Yes\")\n",
    "            \n",
    "        else :\n",
    "            print(\"No\")\n",
    "        i=i+1"
   ]
  },
  {
   "cell_type": "markdown",
   "metadata": {},
   "source": [
    "## 과제 2-5"
   ]
  },
  {
   "cell_type": "markdown",
   "metadata": {},
   "source": [
    "• 반복문을 사용하여 입력받은 숫자만큼 “hi”를 출력하시오."
   ]
  },
  {
   "cell_type": "code",
   "execution_count": 2,
   "metadata": {},
   "outputs": [
    {
     "name": "stdout",
     "output_type": "stream",
     "text": [
      "반복할 수를 입력하세요.5\n",
      "hihihihihi\n"
     ]
    }
   ],
   "source": [
    "n=int(input(\"반복할 수를 입력하세요.\"))\n",
    "\n",
    "print(\"hi\"*n)"
   ]
  },
  {
   "cell_type": "code",
   "execution_count": 3,
   "metadata": {},
   "outputs": [
    {
     "name": "stdout",
     "output_type": "stream",
     "text": [
      "반복할 수를 입력하세요.6\n",
      "hi\n",
      "\n",
      "hi\n",
      "\n",
      "hi\n",
      "\n",
      "hi\n",
      "\n",
      "hi\n",
      "\n"
     ]
    }
   ],
   "source": [
    "n=int(input(\"반복할 수를 입력하세요.\"))\n",
    "\n",
    "for i in range(5):\n",
    "    print(\"hi\"+\"\\n\")"
   ]
  },
  {
   "cell_type": "markdown",
   "metadata": {},
   "source": [
    "## 과제 2-6"
   ]
  },
  {
   "cell_type": "markdown",
   "metadata": {},
   "source": [
    "• while문을 이용하여 자연수 N을 입력받아서 1부터 N까지 하나씩 출력하는 프로그램을 작성하시오."
   ]
  },
  {
   "cell_type": "code",
   "execution_count": 7,
   "metadata": {},
   "outputs": [
    {
     "name": "stdout",
     "output_type": "stream",
     "text": [
      "자연수를 입력하세요.10\n",
      "1\n",
      "2\n",
      "3\n",
      "4\n",
      "5\n",
      "6\n",
      "7\n",
      "8\n",
      "9\n",
      "10\n"
     ]
    }
   ],
   "source": [
    "n= int(input(\"자연수를 입력하세요.\"))\n",
    "i=1\n",
    "while i<=n:\n",
    "    print(i)\n",
    "    i+=1"
   ]
  },
  {
   "cell_type": "markdown",
   "metadata": {},
   "source": [
    "## 과제 2-7"
   ]
  },
  {
   "cell_type": "markdown",
   "metadata": {},
   "source": [
    "• 숫자를 입력받아서 해당 단의 구구단을 출력해보시오"
   ]
  },
  {
   "cell_type": "code",
   "execution_count": 2,
   "metadata": {},
   "outputs": [
    {
     "name": "stdout",
     "output_type": "stream",
     "text": [
      "숫자를 입력하세요.6\n",
      " 6 X  1 =  6\n",
      " 6 X  2 = 12\n",
      " 6 X  3 = 18\n",
      " 6 X  4 = 24\n",
      " 6 X  5 = 30\n",
      " 6 X  6 = 36\n",
      " 6 X  7 = 42\n",
      " 6 X  8 = 48\n",
      " 6 X  9 = 54\n"
     ]
    }
   ],
   "source": [
    "n= int(input(\"숫자를 입력하세요.\"))\n",
    "\n",
    "for i in range(1,10):\n",
    "    print(\"%2d X %2d = %2d\" %(n,i,n*i))"
   ]
  },
  {
   "cell_type": "code",
   "execution_count": 45,
   "metadata": {},
   "outputs": [
    {
     "name": "stdout",
     "output_type": "stream",
     "text": [
      "숫자를 입력하세요.5\n",
      "5 X 1 = 5\n",
      "5 X 2 = 10\n",
      "5 X 3 = 15\n",
      "5 X 4 = 20\n",
      "5 X 5 = 25\n",
      "5 X 6 = 30\n",
      "5 X 7 = 35\n",
      "5 X 8 = 40\n",
      "5 X 9 = 45\n"
     ]
    }
   ],
   "source": [
    "n= int(input(\"숫자를 입력하세요.\"))\n",
    "\n",
    "for i in range(1,10):\n",
    "    print(\"{0} X {1} = {2}\".format(n,i,n*i))"
   ]
  },
  {
   "cell_type": "markdown",
   "metadata": {},
   "source": [
    "## 과제 2-8"
   ]
  },
  {
   "cell_type": "code",
   "execution_count": 1,
   "metadata": {},
   "outputs": [
    {
     "name": "stdout",
     "output_type": "stream",
     "text": [
      " 2  4  6  8 10 12 14 16 18 \n",
      " 3  6  9 12 15 18 21 24 27 \n",
      " 4  8 12 16 20 24 28 32 36 \n",
      " 5 10 15 20 25 30 35 40 45 \n",
      " 6 12 18 24 30 36 42 48 54 \n",
      " 7 14 21 28 35 42 49 56 63 \n"
     ]
    }
   ],
   "source": [
    "for i in range(2,8):\n",
    "    for j in range (1,10):\n",
    "        print(\"%2d\"%(i*j),end=\" \")\n",
    "    print()"
   ]
  },
  {
   "cell_type": "markdown",
   "metadata": {},
   "source": [
    "## 과제 3-1"
   ]
  },
  {
   "cell_type": "markdown",
   "metadata": {},
   "source": [
    "• 로또6/45에서는 여섯 개의 번호를 통하여 당첨자가 결정된다. 각 번호는 1부터 45까지 중 추출되며 여섯 개의 번호 중 겹치는\n",
    "번호는 없도록 되어 있다. 여섯 개 임의의 숫자를 만들어 오름차\n",
    "순으로 출력결과를 나타내도록 한다. 난수를 발생하는 부분은\n",
    "별도의 함수를 만들어 작성하도록 한다(입력 값 없음/리턴 값은\n",
    "1부터 45 사이의 난수)."
   ]
  },
  {
   "cell_type": "code",
   "execution_count": 3,
   "metadata": {},
   "outputs": [
    {
     "name": "stdout",
     "output_type": "stream",
     "text": [
      "[2, 18, 22, 23, 29, 40]\n"
     ]
    }
   ],
   "source": [
    "import random\n",
    "def random_num():\n",
    "    return random.randrange(1,46)\n",
    "\n",
    "random_nums=[]\n",
    "while len(random_nums)<=5:\n",
    "    a=random_num()\n",
    "    if a not in random_nums:\n",
    "        random_nums.append(a)\n",
    "    \n",
    "print(sorted(random_nums))\n",
    "\n"
   ]
  },
  {
   "cell_type": "markdown",
   "metadata": {},
   "source": [
    "## 과제 3-2"
   ]
  },
  {
   "cell_type": "markdown",
   "metadata": {},
   "source": [
    "• 프로그램을 실행시키면 1에서 45 사이의 여섯 개의 번호를 입력하라는 메시지가 뜨며 사용자로부터 이를 입력받는다. 사용자가 여섯개의 수를 입력하면 컴퓨터가 추출한 여섯 개의 수를 보여주며 이 중 몇 개를 맞추었는지\n",
    "보여주고 순위를 알려준다. (실제로 순위에 들기는 확률적으로 매우 어려우므로 테스트시 1부터 45까지가 아니라 1부터 15까지의 수로 한다.)"
   ]
  },
  {
   "cell_type": "code",
   "execution_count": 43,
   "metadata": {},
   "outputs": [
    {
     "name": "stdout",
     "output_type": "stream",
     "text": [
      "숫자를 입력하세요.45\n",
      "숫자를 입력하세요.22\n",
      "숫자를 입력하세요.7\n",
      "숫자를 입력하세요.8\n",
      "숫자를 입력하세요.8\n",
      "이전에 입력하지 않았던 수를 입력하세요.\n",
      "숫자를 입력하세요.46\n",
      "1에서 45사이의 숫자를 입력하세요.\n",
      "숫자를 입력하세요.22\n",
      "이전에 입력하지 않았던 수를 입력하세요.\n",
      "숫자를 입력하세요.1\n",
      "숫자를 입력하세요.3\n",
      "[2, 4, 20, 22, 24, 27]\n",
      "[1, 3, 7, 8, 22, 45]\n",
      "1개 맞췄습니다. 6등입니다.\n"
     ]
    }
   ],
   "source": [
    "import random\n",
    "\n",
    "computer_nums=[]\n",
    "user_nums=[]\n",
    "\n",
    "while len(computer_nums)<=5:\n",
    "    num=random.randrange(1,46)\n",
    "    if num not in computer_nums :\n",
    "        computer_nums.append(num)\n",
    "\n",
    "#print(computer_nums)\n",
    "\n",
    "while len(user_nums)<=5:\n",
    "    num=int(input(\"숫자를 입력하세요.\"))\n",
    "    if num>=1 and num<=45 :\n",
    "        if num not in user_nums :\n",
    "            user_nums.append(num)\n",
    "        else :\n",
    "            print(\"이전에 입력하지 않았던 수를 입력하세요.\")\n",
    "    else:\n",
    "        print(\"1에서 45사이의 숫자를 입력하세요.\")        \n",
    "    #print(user_nums)\n",
    " \n",
    "c=0\n",
    "for i in range(6):\n",
    "    if user_nums[i] in computer_nums:\n",
    "        c+=1\n",
    "\n",
    "print(sorted(computer_nums))\n",
    "print(sorted(user_nums))\n",
    "print(\"{0}개 맞췄습니다. {1}등입니다.\".format(c, 7-c))"
   ]
  },
  {
   "cell_type": "markdown",
   "metadata": {},
   "source": [
    "## 과제 3-3"
   ]
  },
  {
   "cell_type": "markdown",
   "metadata": {},
   "source": [
    "- 다섯 명의 영어점수를 입력받고 뒤이어 다섯 명의 수학점수를 입력 받으시오. (영어점수와 수학점수의 다섯명은 동일인)\n",
    "- 람다함수를 이용하여 90점 이상인 경우에 한해서 모든 점수를 5점씩 올려주시오."
   ]
  },
  {
   "cell_type": "code",
   "execution_count": 46,
   "metadata": {},
   "outputs": [
    {
     "name": "stdout",
     "output_type": "stream",
     "text": [
      "점수를 입력하세요 : 75 88 89 56 25\n",
      "영어점수 :  [75, 88, 89, 56, 25]\n",
      "점수를 입력하세요 : 44 45 90 92 93\n",
      "수학점수 :  [44, 45, 90, 92, 93]\n",
      "[75, 88, 89, 56, 25] [44, 45, 95, 97, 98]\n",
      "75 44\n",
      "88 45\n",
      "89 95\n",
      "56 97\n",
      "25 98\n"
     ]
    }
   ],
   "source": [
    "def score() :\n",
    "    return [int(x) for x in input(\"점수를 입력하세요 : \").split()]\n",
    "\n",
    "eng=score()\n",
    "print(\"영어점수 : \",eng)\n",
    "\n",
    "math=score()\n",
    "print(\"수학점수 : \",math)\n",
    "\n",
    "eng_result = list(map((lambda x: x+5 if x>=90 else x), eng))\n",
    "math_result = list(map((lambda x: x+5 if x>=90 else x), math))\n",
    "print(eng_result, math_result)\n",
    "\n",
    "for i,j in zip(eng_result,math_result) :\n",
    "    print(i,j)"
   ]
  },
  {
   "cell_type": "code",
   "execution_count": null,
   "metadata": {},
   "outputs": [],
   "source": []
  }
 ],
 "metadata": {
  "kernelspec": {
   "display_name": "Python 3",
   "language": "python",
   "name": "python3"
  },
  "language_info": {
   "codemirror_mode": {
    "name": "ipython",
    "version": 3
   },
   "file_extension": ".py",
   "mimetype": "text/x-python",
   "name": "python",
   "nbconvert_exporter": "python",
   "pygments_lexer": "ipython3",
   "version": "3.8.3"
  }
 },
 "nbformat": 4,
 "nbformat_minor": 4
}
